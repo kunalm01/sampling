{
  "cells": [
    {
      "cell_type": "code",
      "execution_count": 15,
      "metadata": {
        "id": "TRuYuPArJbwR"
      },
      "outputs": [],
      "source": [
        "import pandas as pd\n",
        "from sklearn.neighbors import KNeighborsClassifier\n",
        "from sklearn.model_selection import train_test_split\n",
        "from imblearn.over_sampling import RandomOverSampler, SMOTE, ADASYN\n",
        "from imblearn.under_sampling import RandomUnderSampler, TomekLinks\n",
        "from sklearn.tree import DecisionTreeClassifier\n",
        "from sklearn.naive_bayes import GaussianNB\n",
        "from sklearn.linear_model import LogisticRegression\n",
        "from sklearn.ensemble import RandomForestClassifier\n",
        "from sklearn.metrics import accuracy_score, precision_score, recall_score, f1_score\n"
      ]
    },
    {
      "cell_type": "code",
      "execution_count": 16,
      "metadata": {
        "id": "uSSqaaEfJbwU"
      },
      "outputs": [],
      "source": [
        "from sklearn.svm import SVC"
      ]
    },
    {
      "cell_type": "code",
      "execution_count": 17,
      "metadata": {
        "id": "wqAQX-_CJbwV"
      },
      "outputs": [],
      "source": [
        "# Download the dataset\n",
        "url = 'https://raw.githubusercontent.com/AnjulaMehto/Sampling_Assignment/main/Creditcard_data.csv'\n",
        "df = pd.read_csv(url)"
      ]
    },
    {
      "cell_type": "code",
      "execution_count": 18,
      "metadata": {
        "id": "ozffsfGVJbwV"
      },
      "outputs": [],
      "source": [
        "# Count the number of samples in each class\n",
        "class_counts = df[\"Class\"].value_counts()"
      ]
    },
    {
      "cell_type": "code",
      "execution_count": 19,
      "metadata": {
        "id": "Fl-ydvODJbwV"
      },
      "outputs": [],
      "source": [
        "# Determine the majority and minority class\n",
        "majority_class = class_counts.idxmax()\n",
        "minority_class = class_counts.idxmin()\n"
      ]
    },
    {
      "cell_type": "code",
      "execution_count": 20,
      "metadata": {
        "id": "gmCll4QnJbwW"
      },
      "outputs": [],
      "source": [
        "# Split the dataset into features and target variable\n",
        "X = df.drop(\"Class\", axis=1)\n",
        "y = df[\"Class\"]"
      ]
    },
    {
      "cell_type": "code",
      "execution_count": 21,
      "metadata": {
        "id": "kNTwGWgnJbwW"
      },
      "outputs": [],
      "source": [
        "# Split the dataset into training and testing sets\n",
        "X_train, X_test, y_train, y_test = train_test_split(X, y, test_size=0.2, random_state=42)"
      ]
    },
    {
      "cell_type": "code",
      "execution_count": 22,
      "metadata": {
        "id": "aR-zF6tjJbwW"
      },
      "outputs": [],
      "source": [
        "# Create a list of five different sampling techniques\n",
        "samplings = [\n",
        "    RandomOverSampler(random_state=42),\n",
        "    SMOTE(random_state=42),\n",
        "    ADASYN(random_state=42),\n",
        "    RandomUnderSampler(random_state=42),\n",
        "    TomekLinks()\n",
        "]"
      ]
    },
    {
      "cell_type": "code",
      "execution_count": 23,
      "metadata": {
        "id": "lvo5TKgGJbwX"
      },
      "outputs": [],
      "source": [
        "# Create a list of five different machine learning models\n",
        "models = [\n",
        "    DecisionTreeClassifier(random_state=42),\n",
        "    GaussianNB(),\n",
        "    KNeighborsClassifier(n_neighbors=7),\n",
        "    LogisticRegression(random_state=42),\n",
        "    SVC(random_state=42)\n",
        "]"
      ]
    },
    {
      "cell_type": "code",
      "execution_count": 24,
      "metadata": {
        "colab": {
          "base_uri": "https://localhost:8080/"
        },
        "id": "GG0p4K-4JbwX",
        "outputId": "959c6df4-23e7-4c98-a5cf-d594dc85b28d"
      },
      "outputs": [
        {
          "output_type": "stream",
          "name": "stdout",
          "text": [
            "Sampling1 - Model1:\n",
            "  Accuracy: 0.9871\n",
            "  Precision: 0.0000\n",
            "  Recall: 0.0000\n",
            "  F1 Score: 0.0000\n",
            "Sampling1 - Model2:\n",
            "  Accuracy: 0.9355\n",
            "  Precision: 0.0000\n",
            "  Recall: 0.0000\n",
            "  F1 Score: 0.0000\n",
            "Sampling1 - Model3:\n",
            "  Accuracy: 0.9677\n",
            "  Precision: 0.0000\n",
            "  Recall: 0.0000\n",
            "  F1 Score: 0.0000\n",
            "Sampling1 - Model4:\n",
            "  Accuracy: 0.8774\n",
            "  Precision: 0.0000\n",
            "  Recall: 0.0000\n",
            "  F1 Score: 0.0000\n"
          ]
        },
        {
          "output_type": "stream",
          "name": "stderr",
          "text": [
            "/usr/local/lib/python3.8/dist-packages/sklearn/linear_model/_logistic.py:814: ConvergenceWarning: lbfgs failed to converge (status=1):\n",
            "STOP: TOTAL NO. of ITERATIONS REACHED LIMIT.\n",
            "\n",
            "Increase the number of iterations (max_iter) or scale the data as shown in:\n",
            "    https://scikit-learn.org/stable/modules/preprocessing.html\n",
            "Please also refer to the documentation for alternative solver options:\n",
            "    https://scikit-learn.org/stable/modules/linear_model.html#logistic-regression\n",
            "  n_iter_i = _check_optimize_result(\n"
          ]
        },
        {
          "output_type": "stream",
          "name": "stdout",
          "text": [
            "Sampling1 - Model5:\n",
            "  Accuracy: 0.6968\n",
            "  Precision: 0.0000\n",
            "  Recall: 0.0000\n",
            "  F1 Score: 0.0000\n",
            "Sampling2 - Model1:\n",
            "  Accuracy: 0.9419\n",
            "  Precision: 0.0000\n",
            "  Recall: 0.0000\n",
            "  F1 Score: 0.0000\n",
            "Sampling2 - Model2:\n",
            "  Accuracy: 0.8581\n",
            "  Precision: 0.0000\n",
            "  Recall: 0.0000\n",
            "  F1 Score: 0.0000\n",
            "Sampling2 - Model3:\n",
            "  Accuracy: 0.7032\n",
            "  Precision: 0.0000\n",
            "  Recall: 0.0000\n",
            "  F1 Score: 0.0000\n",
            "Sampling2 - Model4:\n"
          ]
        },
        {
          "output_type": "stream",
          "name": "stderr",
          "text": [
            "/usr/local/lib/python3.8/dist-packages/sklearn/linear_model/_logistic.py:814: ConvergenceWarning: lbfgs failed to converge (status=1):\n",
            "STOP: TOTAL NO. of ITERATIONS REACHED LIMIT.\n",
            "\n",
            "Increase the number of iterations (max_iter) or scale the data as shown in:\n",
            "    https://scikit-learn.org/stable/modules/preprocessing.html\n",
            "Please also refer to the documentation for alternative solver options:\n",
            "    https://scikit-learn.org/stable/modules/linear_model.html#logistic-regression\n",
            "  n_iter_i = _check_optimize_result(\n"
          ]
        },
        {
          "output_type": "stream",
          "name": "stdout",
          "text": [
            "  Accuracy: 0.8774\n",
            "  Precision: 0.0000\n",
            "  Recall: 0.0000\n",
            "  F1 Score: 0.0000\n",
            "Sampling2 - Model5:\n",
            "  Accuracy: 0.6710\n",
            "  Precision: 0.0000\n",
            "  Recall: 0.0000\n",
            "  F1 Score: 0.0000\n",
            "Sampling3 - Model1:\n",
            "  Accuracy: 0.9548\n",
            "  Precision: 0.0000\n",
            "  Recall: 0.0000\n",
            "  F1 Score: 0.0000\n",
            "Sampling3 - Model2:\n",
            "  Accuracy: 0.8645\n",
            "  Precision: 0.0000\n",
            "  Recall: 0.0000\n",
            "  F1 Score: 0.0000\n",
            "Sampling3 - Model3:\n",
            "  Accuracy: 0.6968\n",
            "  Precision: 0.0208\n",
            "  Recall: 1.0000\n",
            "  F1 Score: 0.0408\n",
            "Sampling3 - Model4:\n",
            "  Accuracy: 0.8710\n",
            "  Precision: 0.0000\n",
            "  Recall: 0.0000\n",
            "  F1 Score: 0.0000\n"
          ]
        },
        {
          "output_type": "stream",
          "name": "stderr",
          "text": [
            "/usr/local/lib/python3.8/dist-packages/sklearn/linear_model/_logistic.py:814: ConvergenceWarning: lbfgs failed to converge (status=1):\n",
            "STOP: TOTAL NO. of ITERATIONS REACHED LIMIT.\n",
            "\n",
            "Increase the number of iterations (max_iter) or scale the data as shown in:\n",
            "    https://scikit-learn.org/stable/modules/preprocessing.html\n",
            "Please also refer to the documentation for alternative solver options:\n",
            "    https://scikit-learn.org/stable/modules/linear_model.html#logistic-regression\n",
            "  n_iter_i = _check_optimize_result(\n"
          ]
        },
        {
          "output_type": "stream",
          "name": "stdout",
          "text": [
            "Sampling3 - Model5:\n",
            "  Accuracy: 0.6968\n",
            "  Precision: 0.0000\n",
            "  Recall: 0.0000\n",
            "  F1 Score: 0.0000\n",
            "Sampling4 - Model1:\n",
            "  Accuracy: 0.5742\n",
            "  Precision: 0.0000\n",
            "  Recall: 0.0000\n",
            "  F1 Score: 0.0000\n",
            "Sampling4 - Model2:\n",
            "  Accuracy: 0.6968\n",
            "  Precision: 0.0000\n",
            "  Recall: 0.0000\n",
            "  F1 Score: 0.0000\n",
            "Sampling4 - Model3:\n",
            "  Accuracy: 0.6452\n",
            "  Precision: 0.0000\n",
            "  Recall: 0.0000\n",
            "  F1 Score: 0.0000\n",
            "Sampling4 - Model4:\n",
            "  Accuracy: 0.5935\n",
            "  Precision: 0.0000\n",
            "  Recall: 0.0000\n",
            "  F1 Score: 0.0000\n",
            "Sampling4 - Model5:\n",
            "  Accuracy: 0.6258\n",
            "  Precision: 0.0000\n",
            "  Recall: 0.0000\n",
            "  F1 Score: 0.0000\n",
            "Sampling5 - Model1:\n",
            "  Accuracy: 0.9742\n",
            "  Precision: 0.0000\n",
            "  Recall: 0.0000\n",
            "  F1 Score: 0.0000\n"
          ]
        },
        {
          "output_type": "stream",
          "name": "stderr",
          "text": [
            "/usr/local/lib/python3.8/dist-packages/sklearn/linear_model/_logistic.py:814: ConvergenceWarning: lbfgs failed to converge (status=1):\n",
            "STOP: TOTAL NO. of ITERATIONS REACHED LIMIT.\n",
            "\n",
            "Increase the number of iterations (max_iter) or scale the data as shown in:\n",
            "    https://scikit-learn.org/stable/modules/preprocessing.html\n",
            "Please also refer to the documentation for alternative solver options:\n",
            "    https://scikit-learn.org/stable/modules/linear_model.html#logistic-regression\n",
            "  n_iter_i = _check_optimize_result(\n",
            "/usr/local/lib/python3.8/dist-packages/sklearn/metrics/_classification.py:1318: UndefinedMetricWarning: Precision is ill-defined and being set to 0.0 due to no predicted samples. Use `zero_division` parameter to control this behavior.\n",
            "  _warn_prf(average, modifier, msg_start, len(result))\n"
          ]
        },
        {
          "output_type": "stream",
          "name": "stdout",
          "text": [
            "Sampling5 - Model2:\n",
            "  Accuracy: 0.9806\n",
            "  Precision: 0.0000\n",
            "  Recall: 0.0000\n",
            "  F1 Score: 0.0000\n",
            "Sampling5 - Model3:\n",
            "  Accuracy: 0.9935\n",
            "  Precision: 0.0000\n",
            "  Recall: 0.0000\n",
            "  F1 Score: 0.0000\n",
            "Sampling5 - Model4:\n",
            "  Accuracy: 0.9935\n",
            "  Precision: 0.0000\n",
            "  Recall: 0.0000\n",
            "  F1 Score: 0.0000\n",
            "Sampling5 - Model5:\n",
            "  Accuracy: 0.9935\n",
            "  Precision: 0.0000\n",
            "  Recall: 0.0000\n",
            "  F1 Score: 0.0000\n"
          ]
        },
        {
          "output_type": "stream",
          "name": "stderr",
          "text": [
            "/usr/local/lib/python3.8/dist-packages/sklearn/linear_model/_logistic.py:814: ConvergenceWarning: lbfgs failed to converge (status=1):\n",
            "STOP: TOTAL NO. of ITERATIONS REACHED LIMIT.\n",
            "\n",
            "Increase the number of iterations (max_iter) or scale the data as shown in:\n",
            "    https://scikit-learn.org/stable/modules/preprocessing.html\n",
            "Please also refer to the documentation for alternative solver options:\n",
            "    https://scikit-learn.org/stable/modules/linear_model.html#logistic-regression\n",
            "  n_iter_i = _check_optimize_result(\n",
            "/usr/local/lib/python3.8/dist-packages/sklearn/metrics/_classification.py:1318: UndefinedMetricWarning: Precision is ill-defined and being set to 0.0 due to no predicted samples. Use `zero_division` parameter to control this behavior.\n",
            "  _warn_prf(average, modifier, msg_start, len(result))\n",
            "/usr/local/lib/python3.8/dist-packages/sklearn/metrics/_classification.py:1318: UndefinedMetricWarning: Precision is ill-defined and being set to 0.0 due to no predicted samples. Use `zero_division` parameter to control this behavior.\n",
            "  _warn_prf(average, modifier, msg_start, len(result))\n"
          ]
        }
      ],
      "source": [
        "# Loop through each sampling technique and each machine learning model\n",
        "for i, sampling in enumerate(samplings):\n",
        "    for j, model in enumerate(models):\n",
        "        # Apply the sampling technique to the training set\n",
        "        X_train_resampled, y_train_resampled = sampling.fit_resample(X_train, y_train)\n",
        "\n",
        "        # Train the machine learning model on the resampled training set\n",
        "        model.fit(X_train_resampled, y_train_resampled)\n",
        "\n",
        "        # Make predictions on the testing set\n",
        "        y_pred = model.predict(X_test)\n",
        "\n",
        "        # Compute the evaluation metrics\n",
        "        accuracy = accuracy_score(y_test, y_pred)\n",
        "        precision = precision_score(y_test, y_pred)\n",
        "        recall = recall_score(y_test, y_pred)\n",
        "        f1 = f1_score(y_test, y_pred)\n",
        "\n",
        "        # Print the evaluation metrics\n",
        "        print(f\"Sampling{i+1} - Model{j+1}:\")\n",
        "        print(f\"  Accuracy: {accuracy:.4f}\")\n",
        "        print(f\"  Precision: {precision:.4f}\")\n",
        "        print(f\"  Recall: {recall:.4f}\")\n",
        "        print(f\"  F1 Score: {f1:.4f}\")"
      ]
    },
    {
      "cell_type": "code",
      "execution_count": 25,
      "metadata": {
        "id": "sFZNDnz-JbwY"
      },
      "outputs": [],
      "source": [
        "samplings = [\n",
        "    \"RandomOverSampler\",\n",
        "    \"SMOTE\",\n",
        "    \"ADASYN\",\n",
        "    \"RandomUnderSampler\",\n",
        "    \"TomekLinks\"\n",
        "]\n",
        "\n",
        "models = [\n",
        "    \"DecisionTreeClassifier\",\n",
        "    \"GaussianNB\",\n",
        "    \"KNeighborsClassifier\",\n",
        "    \"LogisticRegression\",\n",
        "    \"SVC\"\n",
        "]\n",
        "\n",
        "# Create an empty dictionary to store the accuracy scores\n",
        "accuracy_dict = {}"
      ]
    },
    {
      "cell_type": "code",
      "execution_count": 26,
      "metadata": {
        "colab": {
          "base_uri": "https://localhost:8080/"
        },
        "id": "eyvC4hZ7JbwZ",
        "outputId": "eb37774f-f241-49ef-a0d2-771525dbb269"
      },
      "outputs": [
        {
          "output_type": "stream",
          "name": "stderr",
          "text": [
            "/usr/local/lib/python3.8/dist-packages/sklearn/linear_model/_logistic.py:814: ConvergenceWarning: lbfgs failed to converge (status=1):\n",
            "STOP: TOTAL NO. of ITERATIONS REACHED LIMIT.\n",
            "\n",
            "Increase the number of iterations (max_iter) or scale the data as shown in:\n",
            "    https://scikit-learn.org/stable/modules/preprocessing.html\n",
            "Please also refer to the documentation for alternative solver options:\n",
            "    https://scikit-learn.org/stable/modules/linear_model.html#logistic-regression\n",
            "  n_iter_i = _check_optimize_result(\n",
            "/usr/local/lib/python3.8/dist-packages/sklearn/linear_model/_logistic.py:814: ConvergenceWarning: lbfgs failed to converge (status=1):\n",
            "STOP: TOTAL NO. of ITERATIONS REACHED LIMIT.\n",
            "\n",
            "Increase the number of iterations (max_iter) or scale the data as shown in:\n",
            "    https://scikit-learn.org/stable/modules/preprocessing.html\n",
            "Please also refer to the documentation for alternative solver options:\n",
            "    https://scikit-learn.org/stable/modules/linear_model.html#logistic-regression\n",
            "  n_iter_i = _check_optimize_result(\n",
            "/usr/local/lib/python3.8/dist-packages/sklearn/linear_model/_logistic.py:814: ConvergenceWarning: lbfgs failed to converge (status=1):\n",
            "STOP: TOTAL NO. of ITERATIONS REACHED LIMIT.\n",
            "\n",
            "Increase the number of iterations (max_iter) or scale the data as shown in:\n",
            "    https://scikit-learn.org/stable/modules/preprocessing.html\n",
            "Please also refer to the documentation for alternative solver options:\n",
            "    https://scikit-learn.org/stable/modules/linear_model.html#logistic-regression\n",
            "  n_iter_i = _check_optimize_result(\n",
            "/usr/local/lib/python3.8/dist-packages/sklearn/linear_model/_logistic.py:814: ConvergenceWarning: lbfgs failed to converge (status=1):\n",
            "STOP: TOTAL NO. of ITERATIONS REACHED LIMIT.\n",
            "\n",
            "Increase the number of iterations (max_iter) or scale the data as shown in:\n",
            "    https://scikit-learn.org/stable/modules/preprocessing.html\n",
            "Please also refer to the documentation for alternative solver options:\n",
            "    https://scikit-learn.org/stable/modules/linear_model.html#logistic-regression\n",
            "  n_iter_i = _check_optimize_result(\n",
            "/usr/local/lib/python3.8/dist-packages/sklearn/linear_model/_logistic.py:814: ConvergenceWarning: lbfgs failed to converge (status=1):\n",
            "STOP: TOTAL NO. of ITERATIONS REACHED LIMIT.\n",
            "\n",
            "Increase the number of iterations (max_iter) or scale the data as shown in:\n",
            "    https://scikit-learn.org/stable/modules/preprocessing.html\n",
            "Please also refer to the documentation for alternative solver options:\n",
            "    https://scikit-learn.org/stable/modules/linear_model.html#logistic-regression\n",
            "  n_iter_i = _check_optimize_result(\n"
          ]
        },
        {
          "output_type": "stream",
          "name": "stdout",
          "text": [
            "                        RandomOverSampler     SMOTE    ADASYN  \\\n",
            "DecisionTreeClassifier           0.987097  0.954839  0.974194   \n",
            "GaussianNB                       0.948387  0.883871  0.851613   \n",
            "KNeighborsClassifier             0.980645  0.761290  0.748387   \n",
            "LogisticRegression               0.845161  0.864516  0.870968   \n",
            "SVC                              0.703226  0.683871  0.703226   \n",
            "\n",
            "                        RandomUnderSampler  TomekLinks  \n",
            "DecisionTreeClassifier            0.741935    0.974194  \n",
            "GaussianNB                        0.548387    0.980645  \n",
            "KNeighborsClassifier              0.696774    0.993548  \n",
            "LogisticRegression                0.503226    0.993548  \n",
            "SVC                               0.651613    0.993548  \n"
          ]
        }
      ],
      "source": [
        "# Loop through each sampling technique and each machine learning model\n",
        "for i, sampling in enumerate(samplings):\n",
        "    accuracy_dict[sampling] = {}\n",
        "    for j, model in enumerate(models):\n",
        "        # Import the model class and create an instance of the model\n",
        "        ModelClass = globals()[model]\n",
        "        model_instance = ModelClass()\n",
        "\n",
        "        # Import the sampling technique class and create an instance of the technique\n",
        "        SamplingClass = globals()[sampling]\n",
        "        sampling_instance = SamplingClass()\n",
        "\n",
        "        # Apply the sampling technique to the training set\n",
        "        X_train_resampled, y_train_resampled = sampling_instance.fit_resample(X_train, y_train)\n",
        "\n",
        "        # Train the machine learning model on the resampled training set\n",
        "        model_instance.fit(X_train_resampled, y_train_resampled)\n",
        "\n",
        "        # Make predictions on the testing set\n",
        "        y_pred = model_instance.predict(X_test)\n",
        "\n",
        "        # Compute the accuracy score\n",
        "        accuracy = accuracy_score(y_test, y_pred)\n",
        "\n",
        "        # Add the accuracy score to the dictionary\n",
        "        accuracy_dict[sampling][model] = accuracy\n",
        "\n",
        "# Convert the accuracy dictionary to a DataFrame and print the table\n",
        "accuracy_df = pd.DataFrame(accuracy_dict)\n",
        "print(accuracy_df)\n"
      ]
    },
    {
      "cell_type": "code",
      "execution_count": 27,
      "metadata": {
        "colab": {
          "base_uri": "https://localhost:8080/"
        },
        "id": "LXGhJoE-JbwZ",
        "outputId": "0133cee1-1f47-45f7-9fe9-ea21ed6233d0"
      },
      "outputs": [
        {
          "output_type": "stream",
          "name": "stdout",
          "text": [
            "Best sampling technique is TomekLinks Over model KNeighborsClassifier\n"
          ]
        }
      ],
      "source": [
        "# Find the sampling technique with the highest accuracy score\n",
        "best_sampling = max(accuracy_dict, key=lambda x: max(accuracy_dict[x].values()))\n",
        "\n",
        "# Find the model with the highest accuracy score for the best sampling technique\n",
        "best_model = max(accuracy_dict[best_sampling], key=accuracy_dict[best_sampling].get)\n",
        "\n",
        "# Print the best sampling technique and best model\n",
        "print(\"Best sampling technique is {} Over model {}\".format(best_sampling,best_model))"
      ]
    },
    {
      "cell_type": "code",
      "execution_count": 27,
      "metadata": {
        "id": "cG2FkJHMJbwZ"
      },
      "outputs": [],
      "source": []
    }
  ],
  "metadata": {
    "kernelspec": {
      "display_name": "Python 3",
      "language": "python",
      "name": "python3"
    },
    "language_info": {
      "codemirror_mode": {
        "name": "ipython",
        "version": 3
      },
      "file_extension": ".py",
      "mimetype": "text/x-python",
      "name": "python",
      "nbconvert_exporter": "python",
      "pygments_lexer": "ipython3",
      "version": "3.11.0"
    },
    "orig_nbformat": 4,
    "vscode": {
      "interpreter": {
        "hash": "c261aea317cc0286b3b3261fbba9abdec21eaa57589985bb7a274bf54d6cc0a7"
      }
    },
    "colab": {
      "provenance": []
    }
  },
  "nbformat": 4,
  "nbformat_minor": 0
}